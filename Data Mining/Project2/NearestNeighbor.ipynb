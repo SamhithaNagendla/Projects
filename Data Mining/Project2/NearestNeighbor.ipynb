{
 "cells": [
  {
   "cell_type": "markdown",
   "metadata": {},
   "source": [
    "# PA 2: Classification - Nearest Neighbors"
   ]
  },
  {
   "cell_type": "code",
   "execution_count": 1,
   "metadata": {},
   "outputs": [],
   "source": [
    "import pandas as pd\n",
    "import numpy as np\n",
    "import matplotlib.pyplot as plt\n",
    "import seaborn as sns\n",
    "from sklearn.neighbors import KNeighborsClassifier,kneighbors_graph\n",
    "from sklearn.metrics import classification_report,confusion_matrix\n",
    "from sklearn.model_selection import cross_val_score\n",
    "from sklearn.model_selection import train_test_split\n",
    "from matplotlib.colors import ListedColormap\n",
    "\n",
    "##External Citation: https://www.datacamp.com/community/tutorials/pandas-read-csv ##\n",
    "\n",
    "#Loading titanic dataset available in csv format.\n",
    "df = pd.read_csv(\"titanic.csv\",sep = ',')\n",
    "#Please modify the first attribute of the read_csv() to point to the the database file available in your local system.\n",
    "\n"
   ]
  },
  {
   "cell_type": "code",
   "execution_count": 2,
   "metadata": {},
   "outputs": [
    {
     "data": {
      "text/html": [
       "<div>\n",
       "<style scoped>\n",
       "    .dataframe tbody tr th:only-of-type {\n",
       "        vertical-align: middle;\n",
       "    }\n",
       "\n",
       "    .dataframe tbody tr th {\n",
       "        vertical-align: top;\n",
       "    }\n",
       "\n",
       "    .dataframe thead th {\n",
       "        text-align: right;\n",
       "    }\n",
       "</style>\n",
       "<table border=\"1\" class=\"dataframe\">\n",
       "  <thead>\n",
       "    <tr style=\"text-align: right;\">\n",
       "      <th></th>\n",
       "      <th>Total</th>\n",
       "      <th>%</th>\n",
       "    </tr>\n",
       "  </thead>\n",
       "  <tbody>\n",
       "    <tr>\n",
       "      <th>Cabin</th>\n",
       "      <td>687</td>\n",
       "      <td>77.1</td>\n",
       "    </tr>\n",
       "    <tr>\n",
       "      <th>Age</th>\n",
       "      <td>177</td>\n",
       "      <td>19.9</td>\n",
       "    </tr>\n",
       "    <tr>\n",
       "      <th>Embarked</th>\n",
       "      <td>2</td>\n",
       "      <td>0.2</td>\n",
       "    </tr>\n",
       "    <tr>\n",
       "      <th>Fare</th>\n",
       "      <td>0</td>\n",
       "      <td>0.0</td>\n",
       "    </tr>\n",
       "    <tr>\n",
       "      <th>Ticket</th>\n",
       "      <td>0</td>\n",
       "      <td>0.0</td>\n",
       "    </tr>\n",
       "  </tbody>\n",
       "</table>\n",
       "</div>"
      ],
      "text/plain": [
       "          Total     %\n",
       "Cabin       687  77.1\n",
       "Age         177  19.9\n",
       "Embarked      2   0.2\n",
       "Fare          0   0.0\n",
       "Ticket        0   0.0"
      ]
     },
     "execution_count": 2,
     "metadata": {},
     "output_type": "execute_result"
    }
   ],
   "source": [
    "##External Citation: https://towardsdatascience.com/predicting-the-survival-of-titanic-passengers-30870ccc7e8 ##\n",
    "\n",
    "#Pre-Processing the loaded data.\n",
    "\n",
    "#Checking for missing data.\n",
    "\n",
    "#total includes the null counts arraged in descending order.\n",
    "total = df.isnull().sum().sort_values(ascending=False)\n",
    "#percent_1 calculates the percentage of null values.\n",
    "percent_1 = df.isnull().sum()/df.isnull().count()*100\n",
    "#percent_2 rounds the percent_1 to one decimal point and sorts them in the ascending order.\n",
    "percent_2 = (round(percent_1, 1)).sort_values(ascending=False)\n",
    "#missing_data includes column names with total and percentage values calculated in the above steps.\n",
    "missing_data = pd.concat([total, percent_2], axis=1, keys=['Total', '%'])\n",
    "#Displaying the top five records.\n",
    "missing_data.head(5)\n",
    "\n",
    "\n"
   ]
  },
  {
   "cell_type": "code",
   "execution_count": 3,
   "metadata": {},
   "outputs": [],
   "source": [
    "##External Citation:https://towardsdatascience.com/predicting-the-survival-of-titanic-passengers-30870ccc7e8 ##\n",
    "\n",
    "#Dropping Cabin feature as nearly 77.1% columns values are missing.As it is nearly entirely empty, it won't be significant for the analysis.\n",
    "#Drops the Cabin feature from the dataframe.\n",
    "df=df.drop(['Cabin'], axis=1)\n",
    "\n"
   ]
  },
  {
   "cell_type": "code",
   "execution_count": 4,
   "metadata": {},
   "outputs": [
    {
     "data": {
      "text/plain": [
       "0"
      ]
     },
     "execution_count": 4,
     "metadata": {},
     "output_type": "execute_result"
    }
   ],
   "source": [
    "##External Citation:https://towardsdatascience.com/predicting-the-survival-of-titanic-passengers-30870ccc7e8 ##\n",
    "\n",
    "#Filling out the missing values of age.\n",
    "\n",
    "#mean stores the mean value of the age.\n",
    "mean = df[\"Age\"].mean()\n",
    "#std stores the standard-deviation value of the age.\n",
    "std = df[\"Age\"].std()\n",
    "#is_null stores the count of records that are null.\n",
    "is_null = df[\"Age\"].isnull().sum()\n",
    "# compute random numbers between the mean, std and is_null\n",
    "rand_age = np.random.randint(mean - std, mean + std, size = is_null)\n",
    "# age_slice consist of copy of values of age column.\n",
    "age_slice = df[\"Age\"].copy()\n",
    "#fill NaN values in age_slice column with random values generated\n",
    "age_slice[np.isnan(age_slice)] = rand_age\n",
    "#Assigning updated age_slice values after filling out to age.\n",
    "df[\"Age\"] = age_slice\n",
    "#Converting age column type to integer\n",
    "df[\"Age\"] = df[\"Age\"].astype(int)\n",
    "#checking if any null values exist after the update\n",
    "df[\"Age\"].isnull().sum()"
   ]
  },
  {
   "cell_type": "code",
   "execution_count": 5,
   "metadata": {},
   "outputs": [
    {
     "data": {
      "text/plain": [
       "count     889\n",
       "unique      3\n",
       "top         S\n",
       "freq      644\n",
       "Name: Embarked, dtype: object"
      ]
     },
     "execution_count": 5,
     "metadata": {},
     "output_type": "execute_result"
    }
   ],
   "source": [
    "##External Citation:https://towardsdatascience.com/predicting-the-survival-of-titanic-passengers-30870ccc7e8 ##\n",
    "\n",
    "#describing the Embarked column to check most frequent value.\n",
    "df['Embarked'].describe()\n"
   ]
  },
  {
   "cell_type": "code",
   "execution_count": 6,
   "metadata": {},
   "outputs": [],
   "source": [
    "##External Citation:https://towardsdatascience.com/predicting-the-survival-of-titanic-passengers-30870ccc7e8 ##\n",
    "\n",
    "#common_value consist of the most common value of Emabarked.\n",
    "common_value = 'S'\n",
    "#Assigning the most common value to the missing two values of Embark.\n",
    "df['Embarked'] = df['Embarked'].fillna(common_value)\n"
   ]
  },
  {
   "cell_type": "code",
   "execution_count": 7,
   "metadata": {},
   "outputs": [
    {
     "data": {
      "text/html": [
       "<div>\n",
       "<style scoped>\n",
       "    .dataframe tbody tr th:only-of-type {\n",
       "        vertical-align: middle;\n",
       "    }\n",
       "\n",
       "    .dataframe tbody tr th {\n",
       "        vertical-align: top;\n",
       "    }\n",
       "\n",
       "    .dataframe thead th {\n",
       "        text-align: right;\n",
       "    }\n",
       "</style>\n",
       "<table border=\"1\" class=\"dataframe\">\n",
       "  <thead>\n",
       "    <tr style=\"text-align: right;\">\n",
       "      <th></th>\n",
       "      <th>Total</th>\n",
       "      <th>%</th>\n",
       "    </tr>\n",
       "  </thead>\n",
       "  <tbody>\n",
       "    <tr>\n",
       "      <th>Embarked</th>\n",
       "      <td>0</td>\n",
       "      <td>0.0</td>\n",
       "    </tr>\n",
       "    <tr>\n",
       "      <th>Fare</th>\n",
       "      <td>0</td>\n",
       "      <td>0.0</td>\n",
       "    </tr>\n",
       "    <tr>\n",
       "      <th>Ticket</th>\n",
       "      <td>0</td>\n",
       "      <td>0.0</td>\n",
       "    </tr>\n",
       "    <tr>\n",
       "      <th>Parch</th>\n",
       "      <td>0</td>\n",
       "      <td>0.0</td>\n",
       "    </tr>\n",
       "    <tr>\n",
       "      <th>SibSp</th>\n",
       "      <td>0</td>\n",
       "      <td>0.0</td>\n",
       "    </tr>\n",
       "  </tbody>\n",
       "</table>\n",
       "</div>"
      ],
      "text/plain": [
       "          Total    %\n",
       "Embarked      0  0.0\n",
       "Fare          0  0.0\n",
       "Ticket        0  0.0\n",
       "Parch         0  0.0\n",
       "SibSp         0  0.0"
      ]
     },
     "execution_count": 7,
     "metadata": {},
     "output_type": "execute_result"
    }
   ],
   "source": [
    "##External Citation:https://towardsdatascience.com/predicting-the-survival-of-titanic-passengers-30870ccc7e8 ##\n",
    "\n",
    "#Checking for missing data after dropping the columns that are nearly empty and filling out missing data for columns with few missing percentage.\n",
    "\n",
    "#total includes the null counts arraged in descending order.\n",
    "total = df.isnull().sum().sort_values(ascending=False)\n",
    "#percent_1 calculates the percentage of null values.\n",
    "percent_1 = df.isnull().sum()/df.isnull().count()*100\n",
    "#percent_2 rounds the percent_1 to one decimal point and sorts them in the ascending order.\n",
    "percent_2 = (round(percent_1, 1)).sort_values(ascending=False)\n",
    "#missing_data includes column names with total and percentage values calculated in the above steps.\n",
    "missing_data = pd.concat([total, percent_2], axis=1, keys=['Total', '%'])\n",
    "#Displaying the top five records.\n",
    "missing_data.head(5)"
   ]
  },
  {
   "cell_type": "code",
   "execution_count": 8,
   "metadata": {},
   "outputs": [],
   "source": [
    "##External Citation:https://towardsdatascience.com/predicting-the-survival-of-titanic-passengers-30870ccc7e8 ##\n",
    "\n",
    "#Converting Features.\n",
    "\n",
    "#Converting the fare data type as integer.\n",
    "df['Fare'] = df['Fare'].astype(int)"
   ]
  },
  {
   "cell_type": "code",
   "execution_count": 9,
   "metadata": {},
   "outputs": [],
   "source": [
    "##External Citation:https://towardsdatascience.com/predicting-the-survival-of-titanic-passengers-30870ccc7e8 ##\n",
    "\n",
    "#using the Name feature to extract the Titles from the Name, so that we can build a new feature out of that.\n",
    "titles = {\"Mr\": 1, \"Miss\": 2, \"Mrs\": 3, \"Master\": 4, \"Rare\": 5}\n",
    "# extract titles\n",
    "df['Title'] = df.Name.str.extract(' ([A-Za-z]+)\\.', expand=False)\n",
    "# replace titles with a more common title or as Rare\n",
    "df['Title'] = df['Title'].replace(['Lady', 'Countess','Capt', 'Col','Don', 'Dr','Major', 'Rev', 'Sir', 'Jonkheer', 'Dona'], 'Rare')\n",
    "df['Title'] = df['Title'].replace('Mlle', 'Miss')\n",
    "df['Title'] = df['Title'].replace('Ms', 'Miss')\n",
    "df['Title'] = df['Title'].replace('Mme', 'Mrs')\n",
    "# convert titles into numbers\n",
    "df['Title'] = df['Title'].map(titles)\n",
    "# filling NaN with 0, to get safe\n",
    "df['Title'] = df['Title'].fillna(0)\n",
    "#Dropping the Name feature as title is extracted and a new feature Title is created out of it.\n",
    "df = df.drop(['Name'], axis=1)\n"
   ]
  },
  {
   "cell_type": "code",
   "execution_count": 10,
   "metadata": {},
   "outputs": [],
   "source": [
    "##External Citation:https://towardsdatascience.com/predicting-the-survival-of-titanic-passengers-30870ccc7e8 ##\n",
    "\n",
    "#Creating a mapping of male =0 and female =1.\n",
    "genders = {\"male\": 0, \"female\": 1}\n",
    "#converting the values of sex from male, female to 0,1 using map created in the above step.\n",
    "df['Sex'] = df['Sex'].map(genders)"
   ]
  },
  {
   "cell_type": "code",
   "execution_count": 11,
   "metadata": {},
   "outputs": [
    {
     "data": {
      "text/plain": [
       "count          891\n",
       "unique         681\n",
       "top       CA. 2343\n",
       "freq             7\n",
       "Name: Ticket, dtype: object"
      ]
     },
     "execution_count": 11,
     "metadata": {},
     "output_type": "execute_result"
    }
   ],
   "source": [
    "##External Citation:https://towardsdatascience.com/predicting-the-survival-of-titanic-passengers-30870ccc7e8 ##\n",
    "\n",
    "#Describing the 'Ticket' column to check the unique values of 'Ticket'.\n",
    "df['Ticket'].describe()\n"
   ]
  },
  {
   "cell_type": "code",
   "execution_count": 12,
   "metadata": {},
   "outputs": [],
   "source": [
    "##External Citation:https://towardsdatascience.com/predicting-the-survival-of-titanic-passengers-30870ccc7e8 ##\n",
    "\n",
    "#Am among 891 values, 681 values are unique.As it consist of more distinct values, it will not be that much important for analysis.\n",
    "df=df.drop('Ticket' ,axis=1)"
   ]
  },
  {
   "cell_type": "code",
   "execution_count": 13,
   "metadata": {},
   "outputs": [],
   "source": [
    "##External Citation:https://towardsdatascience.com/predicting-the-survival-of-titanic-passengers-30870ccc7e8 ##\n",
    "\n",
    "#Creating a mapping of S=0,C=1,Q=2.\n",
    "ports = {\"S\": 0, \"C\": 1, \"Q\": 2}\n",
    "#Converting the values of 'Embarked' from S to 0 , C to 1, Q to 2.\n",
    "df['Embarked'] = df['Embarked'].map(ports)"
   ]
  },
  {
   "cell_type": "code",
   "execution_count": 14,
   "metadata": {},
   "outputs": [],
   "source": [
    "##External Citation:https://towardsdatascience.com/predicting-the-survival-of-titanic-passengers-30870ccc7e8 ##\n",
    "\n",
    "#Creating Categories.\n",
    "\n",
    "#converting 'Age' to integer data type.\n",
    "df['Age'] = df['Age'].astype(int)\n",
    "\n",
    "#Converting Age values by dividing them into categories and assiging a value.\n",
    "#Age less than or equal to 11 values are changed to 1.\n",
    "#Age between 11-18 as 2, 18-22 as 3,22-27 as 4,27-33 as 5,33-40 as 6,40-66 as 7 and greater than 66 as 8.\n",
    "\n",
    "df.loc[ df['Age'] <= 11, 'Age'] = 1\n",
    "df.loc[(df['Age'] > 11) & (df['Age'] <= 18), 'Age'] = 2\n",
    "df.loc[(df['Age'] > 18) & (df['Age'] <= 22), 'Age'] = 3\n",
    "df.loc[(df['Age'] > 22) & (df['Age'] <= 27), 'Age'] = 4\n",
    "df.loc[(df['Age'] > 27) & (df['Age'] <= 33), 'Age'] = 5\n",
    "df.loc[(df['Age'] > 33) & (df['Age'] <= 40), 'Age'] = 6\n",
    "df.loc[(df['Age'] > 40) & (df['Age'] <= 66), 'Age'] = 7\n",
    "df.loc[ df['Age'] > 66, 'Age'] = 8\n"
   ]
  },
  {
   "cell_type": "code",
   "execution_count": 15,
   "metadata": {},
   "outputs": [],
   "source": [
    "##External Citation:https://towardsdatascience.com/predicting-the-survival-of-titanic-passengers-30870ccc7e8 ##\n",
    "\n",
    "#Converting Fare values by dividing them into categories and assiging a value.\n",
    "#Fare less than or equal to 7.91 values are changed to 0.\n",
    "#Fares between 7.91 - 14.454 as 1, 14.454 - 31 as 2, 31 - 99 as 3, 99 - 250 as 4 and greater than 250 as 5.\n",
    "df.loc[ df['Fare'] <= 7.91, 'Fare'] = 0\n",
    "df.loc[(df['Fare'] > 7.91) & (df['Fare'] <= 14.454), 'Fare'] = 1\n",
    "df.loc[(df['Fare'] > 14.454) & (df['Fare'] <= 31), 'Fare']   = 2\n",
    "df.loc[(df['Fare'] > 31) & (df['Fare'] <= 99), 'Fare']   = 3\n",
    "df.loc[(df['Fare'] > 99) & (df['Fare'] <= 250), 'Fare']   = 4\n",
    "df.loc[ df['Fare'] > 250, 'Fare'] = 5\n",
    "#converting 'Fare' to integer data type.\n",
    "df['Fare'] = df['Fare'].astype(int)"
   ]
  },
  {
   "cell_type": "code",
   "execution_count": 16,
   "metadata": {},
   "outputs": [
    {
     "data": {
      "text/plain": [
       "1    537\n",
       "0    354\n",
       "Name: not_alone, dtype: int64"
      ]
     },
     "execution_count": 16,
     "metadata": {},
     "output_type": "execute_result"
    }
   ],
   "source": [
    "##External Citation:https://towardsdatascience.com/predicting-the-survival-of-titanic-passengers-30870ccc7e8 ##\n",
    "\n",
    "#Creating New Features.\n",
    "\n",
    "#Adding 'relatives' as the count of number of siblings, spouses, children, parents aboard. As all these people will be part of family, it will be easy to have a column with these details.\n",
    "#relatives is sum of counts of sibSp and Parch\n",
    "df['relatives'] = df['SibSp'] + df['Parch']\n",
    "\n",
    "#Creating an additional column not_alone to represent whether they are alone or not.\n",
    "#Assigns 0 to not_alone on if relatives value is greater than zero.\n",
    "df.loc[df['relatives'] > 0, 'not_alone'] = 0\n",
    "#Assigns 1 to not_alone on if relatives value is equal to zero.\n",
    "df.loc[df['relatives'] == 0, 'not_alone'] = 1\n",
    "#converting not_alone to integer data-type.\n",
    "df['not_alone'] = df['not_alone'].astype(int)\n",
    "#checking the values of not_alone to check if above conditions are properly implemented or not.\n",
    "df['not_alone'].value_counts()"
   ]
  },
  {
   "cell_type": "code",
   "execution_count": 17,
   "metadata": {},
   "outputs": [],
   "source": [
    "##External Citation:https://towardsdatascience.com/predicting-the-survival-of-titanic-passengers-30870ccc7e8 ##\n",
    "\n",
    "#Creating a new column 'Age_class' that is multiplication of age with pclass.\n",
    "df['Age_Class']= df['Age']* df['Pclass']"
   ]
  },
  {
   "cell_type": "code",
   "execution_count": 18,
   "metadata": {},
   "outputs": [
    {
     "data": {
      "text/html": [
       "<div>\n",
       "<style scoped>\n",
       "    .dataframe tbody tr th:only-of-type {\n",
       "        vertical-align: middle;\n",
       "    }\n",
       "\n",
       "    .dataframe tbody tr th {\n",
       "        vertical-align: top;\n",
       "    }\n",
       "\n",
       "    .dataframe thead th {\n",
       "        text-align: right;\n",
       "    }\n",
       "</style>\n",
       "<table border=\"1\" class=\"dataframe\">\n",
       "  <thead>\n",
       "    <tr style=\"text-align: right;\">\n",
       "      <th></th>\n",
       "      <th>Survived</th>\n",
       "      <th>Pclass</th>\n",
       "      <th>Sex</th>\n",
       "      <th>Age</th>\n",
       "      <th>SibSp</th>\n",
       "      <th>Parch</th>\n",
       "      <th>Fare</th>\n",
       "      <th>Embarked</th>\n",
       "      <th>Title</th>\n",
       "      <th>relatives</th>\n",
       "      <th>not_alone</th>\n",
       "      <th>Age_Class</th>\n",
       "      <th>Fare_Per_Person</th>\n",
       "    </tr>\n",
       "  </thead>\n",
       "  <tbody>\n",
       "    <tr>\n",
       "      <th>0</th>\n",
       "      <td>0</td>\n",
       "      <td>3</td>\n",
       "      <td>0</td>\n",
       "      <td>3</td>\n",
       "      <td>1</td>\n",
       "      <td>0</td>\n",
       "      <td>0</td>\n",
       "      <td>0</td>\n",
       "      <td>1</td>\n",
       "      <td>1</td>\n",
       "      <td>0</td>\n",
       "      <td>9</td>\n",
       "      <td>0</td>\n",
       "    </tr>\n",
       "    <tr>\n",
       "      <th>1</th>\n",
       "      <td>1</td>\n",
       "      <td>1</td>\n",
       "      <td>1</td>\n",
       "      <td>6</td>\n",
       "      <td>1</td>\n",
       "      <td>0</td>\n",
       "      <td>3</td>\n",
       "      <td>1</td>\n",
       "      <td>3</td>\n",
       "      <td>1</td>\n",
       "      <td>0</td>\n",
       "      <td>6</td>\n",
       "      <td>1</td>\n",
       "    </tr>\n",
       "    <tr>\n",
       "      <th>2</th>\n",
       "      <td>1</td>\n",
       "      <td>3</td>\n",
       "      <td>1</td>\n",
       "      <td>4</td>\n",
       "      <td>0</td>\n",
       "      <td>0</td>\n",
       "      <td>0</td>\n",
       "      <td>0</td>\n",
       "      <td>2</td>\n",
       "      <td>0</td>\n",
       "      <td>1</td>\n",
       "      <td>12</td>\n",
       "      <td>0</td>\n",
       "    </tr>\n",
       "    <tr>\n",
       "      <th>3</th>\n",
       "      <td>1</td>\n",
       "      <td>1</td>\n",
       "      <td>1</td>\n",
       "      <td>6</td>\n",
       "      <td>1</td>\n",
       "      <td>0</td>\n",
       "      <td>3</td>\n",
       "      <td>0</td>\n",
       "      <td>3</td>\n",
       "      <td>1</td>\n",
       "      <td>0</td>\n",
       "      <td>6</td>\n",
       "      <td>1</td>\n",
       "    </tr>\n",
       "    <tr>\n",
       "      <th>4</th>\n",
       "      <td>0</td>\n",
       "      <td>3</td>\n",
       "      <td>0</td>\n",
       "      <td>6</td>\n",
       "      <td>0</td>\n",
       "      <td>0</td>\n",
       "      <td>1</td>\n",
       "      <td>0</td>\n",
       "      <td>1</td>\n",
       "      <td>0</td>\n",
       "      <td>1</td>\n",
       "      <td>18</td>\n",
       "      <td>1</td>\n",
       "    </tr>\n",
       "    <tr>\n",
       "      <th>5</th>\n",
       "      <td>0</td>\n",
       "      <td>3</td>\n",
       "      <td>0</td>\n",
       "      <td>5</td>\n",
       "      <td>0</td>\n",
       "      <td>0</td>\n",
       "      <td>1</td>\n",
       "      <td>2</td>\n",
       "      <td>1</td>\n",
       "      <td>0</td>\n",
       "      <td>1</td>\n",
       "      <td>15</td>\n",
       "      <td>1</td>\n",
       "    </tr>\n",
       "    <tr>\n",
       "      <th>6</th>\n",
       "      <td>0</td>\n",
       "      <td>1</td>\n",
       "      <td>0</td>\n",
       "      <td>7</td>\n",
       "      <td>0</td>\n",
       "      <td>0</td>\n",
       "      <td>3</td>\n",
       "      <td>0</td>\n",
       "      <td>1</td>\n",
       "      <td>0</td>\n",
       "      <td>1</td>\n",
       "      <td>7</td>\n",
       "      <td>3</td>\n",
       "    </tr>\n",
       "    <tr>\n",
       "      <th>7</th>\n",
       "      <td>0</td>\n",
       "      <td>3</td>\n",
       "      <td>0</td>\n",
       "      <td>1</td>\n",
       "      <td>3</td>\n",
       "      <td>1</td>\n",
       "      <td>2</td>\n",
       "      <td>0</td>\n",
       "      <td>4</td>\n",
       "      <td>4</td>\n",
       "      <td>0</td>\n",
       "      <td>3</td>\n",
       "      <td>0</td>\n",
       "    </tr>\n",
       "    <tr>\n",
       "      <th>8</th>\n",
       "      <td>1</td>\n",
       "      <td>3</td>\n",
       "      <td>1</td>\n",
       "      <td>4</td>\n",
       "      <td>0</td>\n",
       "      <td>2</td>\n",
       "      <td>1</td>\n",
       "      <td>0</td>\n",
       "      <td>3</td>\n",
       "      <td>2</td>\n",
       "      <td>0</td>\n",
       "      <td>12</td>\n",
       "      <td>0</td>\n",
       "    </tr>\n",
       "    <tr>\n",
       "      <th>9</th>\n",
       "      <td>1</td>\n",
       "      <td>2</td>\n",
       "      <td>1</td>\n",
       "      <td>2</td>\n",
       "      <td>1</td>\n",
       "      <td>0</td>\n",
       "      <td>2</td>\n",
       "      <td>1</td>\n",
       "      <td>3</td>\n",
       "      <td>1</td>\n",
       "      <td>0</td>\n",
       "      <td>4</td>\n",
       "      <td>1</td>\n",
       "    </tr>\n",
       "  </tbody>\n",
       "</table>\n",
       "</div>"
      ],
      "text/plain": [
       "   Survived  Pclass  Sex  Age  SibSp  Parch  Fare  Embarked  Title  relatives  \\\n",
       "0         0       3    0    3      1      0     0         0      1          1   \n",
       "1         1       1    1    6      1      0     3         1      3          1   \n",
       "2         1       3    1    4      0      0     0         0      2          0   \n",
       "3         1       1    1    6      1      0     3         0      3          1   \n",
       "4         0       3    0    6      0      0     1         0      1          0   \n",
       "5         0       3    0    5      0      0     1         2      1          0   \n",
       "6         0       1    0    7      0      0     3         0      1          0   \n",
       "7         0       3    0    1      3      1     2         0      4          4   \n",
       "8         1       3    1    4      0      2     1         0      3          2   \n",
       "9         1       2    1    2      1      0     2         1      3          1   \n",
       "\n",
       "   not_alone  Age_Class  Fare_Per_Person  \n",
       "0          0          9                0  \n",
       "1          0          6                1  \n",
       "2          1         12                0  \n",
       "3          0          6                1  \n",
       "4          1         18                1  \n",
       "5          1         15                1  \n",
       "6          1          7                3  \n",
       "7          0          3                0  \n",
       "8          0         12                0  \n",
       "9          0          4                1  "
      ]
     },
     "execution_count": 18,
     "metadata": {},
     "output_type": "execute_result"
    }
   ],
   "source": [
    "##External Citation:https://towardsdatascience.com/predicting-the-survival-of-titanic-passengers-30870ccc7e8 ##\n",
    "\n",
    "#Creating a new column \"Fare_Per_person\" that calculates the fare per each person \n",
    "#Dividing 'Fare' by 'relatives' +1 count, including the person for whom it is calculated.\n",
    "df['Fare_Per_Person'] = df['Fare']/(df['relatives']+1)\n",
    "#converting the 'Fare_Per_person' to integer data type\n",
    "df['Fare_Per_Person'] = df['Fare_Per_Person'].astype(int)\n",
    "\n",
    "# Checking the data after completion of pre-processing.\n",
    "df.head(10)"
   ]
  },
  {
   "cell_type": "code",
   "execution_count": 276,
   "metadata": {},
   "outputs": [],
   "source": [
    "##External Citation: https://pandas.pydata.org/docs/getting_started/intro_tutorials/03_subset_data.html ##\n",
    "\n",
    "#selecting the 3 best features for traing and testing the model.\n",
    "\n",
    "#Selected 'Age' ,'Sex' and 'Fare_per_person' features and the target variable 'Survived'. \n",
    "#Survived people can be distributed over a range of different age groups. \n",
    "#As based on the sex the survival rate can be impacted.\n",
    "#Similarly based on the Fare_Per_Person the survival rate can be impacted.\n",
    "\n",
    "#Created subset of features and assigned them to sub_df for traing and testing the model.\n",
    "sub_df= df[[\"Sex\",\"Age\",\"Fare_Per_Person\",\"Survived\"]]\n",
    "Y = sub_df['Survived']  #Labels\n",
    "X = sub_df.drop(['Survived'], axis = 1)  #Features\n",
    "\n"
   ]
  },
  {
   "cell_type": "code",
   "execution_count": 277,
   "metadata": {},
   "outputs": [
    {
     "data": {
      "text/plain": [
       "Text(0, 0.5, 'Accuracy Rate')"
      ]
     },
     "execution_count": 277,
     "metadata": {},
     "output_type": "execute_result"
    },
    {
     "data": {
      "image/png": "[encoded data removed]",
      "text/plain": [
       "<Figure size 720x432 with 1 Axes>"
      ]
     },
     "metadata": {
      "needs_background": "light"
     },
     "output_type": "display_data"
    }
   ],
   "source": [
    "##External Citation: https://towardsdatascience.com/predicting-cardiovascular-disease-using-k-nearest-neighbors-algorithm-614b0ecbf122 ##\n",
    "\n",
    "#Finding best k based on Accuracy Rate.\n",
    "\n",
    "#An empty array to store the accuracy rates calculated for different values of nearest-neighbors.\n",
    "accuracy_rate = []\n",
    "#For a range of 1-40 nerest neigbor values, nearest neighbor classifier is considered and the score is calculated by croos-validation and accuracy rate is appended for each value of nearest neighbor is appended to the accuracy_rate array.\n",
    "for i in range(1,40):\n",
    "    \n",
    "    knn = KNeighborsClassifier(n_neighbors=i)\n",
    "    score=cross_val_score(knn,X,sub_df['Survived'],cv=10)\n",
    "    accuracy_rate.append(score.mean())\n",
    "\n",
    "#Specifing the size of figure\n",
    "plt.figure(figsize=(10,6))\n",
    "#Plotting the accuracy rates for the range of nearest neigbors.\n",
    "plt.plot(range(1,40),accuracy_rate,color='green', linestyle='dashed', marker='o',markerfacecolor='blue', markersize=10)\n",
    "#Specifying title of the plot\n",
    "plt.title('Accuracy Rate vs. K Value')\n",
    "#Specifying the X-label\n",
    "plt.xlabel('K')\n",
    "#Specifying the Y-label\n",
    "plt.ylabel('Accuracy Rate')"
   ]
  },
  {
   "cell_type": "code",
   "execution_count": 278,
   "metadata": {},
   "outputs": [
    {
     "data": {
      "text/plain": [
       "Text(0, 0.5, 'Error Rate')"
      ]
     },
     "execution_count": 278,
     "metadata": {},
     "output_type": "execute_result"
    },
    {
     "data": {
      "image/png": "[encoded data removed]",
      "text/plain": [
       "<Figure size 720x432 with 1 Axes>"
      ]
     },
     "metadata": {
      "needs_background": "light"
     },
     "output_type": "display_data"
    }
   ],
   "source": [
    "##External Citation: https://towardsdatascience.com/predicting-cardiovascular-disease-using-k-nearest-neighbors-algorithm-614b0ecbf122 ##\n",
    "\n",
    "#Finding best k based on Error Rate.\n",
    "\n",
    "#An empty array to store the error rates calculated for different values of nearest-neighbors.\n",
    "error_rate = []\n",
    "\n",
    "#For a range of 1-40 nerest neigbor values, nearest neighbor classifier is considered and the score is calculated by croos-validation and error rate is appended for each value of nearest neighbor is appended to the error_rate array.\n",
    "for i in range(1,40):\n",
    "    \n",
    "    knn = KNeighborsClassifier(n_neighbors=i)\n",
    "    score=cross_val_score(knn,X,sub_df['Survived'],cv=10)\n",
    "    error_rate.append(1-score.mean())\n",
    "\n",
    "#Specifing the size of figure\n",
    "plt.figure(figsize=(10,6))\n",
    "#Plotting the accuracy rates for the range of nearest neigbors.\n",
    "plt.plot(range(1,40),error_rate,color='green', linestyle='dashed', marker='o',markerfacecolor='blue', markersize=10)\n",
    "#Specifying title of the plot\n",
    "plt.title('Error Rate vs. K Value')\n",
    "#Specifying the X-label\n",
    "plt.xlabel('K Value')\n",
    "#Specifying the Y-label\n",
    "plt.ylabel('Error Rate')"
   ]
  },
  {
   "cell_type": "code",
   "execution_count": 279,
   "metadata": {},
   "outputs": [],
   "source": [
    "#Splitting the 70% data as training set and 30% as testing set.\n",
    "X_train, X_test, y_train, y_test = train_test_split(X, Y, test_size = 0.30)"
   ]
  },
  {
   "cell_type": "code",
   "execution_count": 285,
   "metadata": {},
   "outputs": [
    {
     "name": "stdout",
     "output_type": "stream",
     "text": [
      "Confusion Matrix with nearest neighbor 9: \n",
      " [[134  22]\n",
      " [ 34  78]]\n"
     ]
    },
    {
     "data": {
      "image/png": "[encoded data removed]",
      "text/plain": [
       "<Figure size 1728x864 with 1 Axes>"
      ]
     },
     "metadata": {
      "needs_background": "light"
     },
     "output_type": "display_data"
    },
    {
     "name": "stdout",
     "output_type": "stream",
     "text": [
      "\n",
      "Classification Report with nearest neighbor 9:\n",
      "               precision    recall  f1-score   support\n",
      "\n",
      "           0       0.80      0.86      0.83       156\n",
      "           1       0.78      0.70      0.74       112\n",
      "\n",
      "    accuracy                           0.79       268\n",
      "   macro avg       0.79      0.78      0.78       268\n",
      "weighted avg       0.79      0.79      0.79       268\n",
      "\n"
     ]
    }
   ],
   "source": [
    "##External Citation: https://towardsdatascience.com/predicting-cardiovascular-disease-using-k-nearest-neighbors-algorithm-614b0ecbf122 ##\n",
    "\n",
    "# For Nearest Neighbor : 9\n",
    "\n",
    "#Initializing the nearest neigbhor classifer by specifying the neighbors using n_neighbors attribute, to consider Euclidean ditance by passing 2 value to attribute p and specifying to consider the distance by passing distance to weights attribute. \n",
    "knn_9 = KNeighborsClassifier(n_neighbors=9,p = 2,weights ='distance')\n",
    "#Traing the model by fitting the train data to the k-nearest neighbor classifier.\n",
    "knn_9.fit(X_train,y_train)\n",
    "#Assigning the predicted values of test data set . They are predicted using the model trained in the above steps. \n",
    "prediction_9 = knn_9.predict(X_test)\n",
    "\n",
    "#Displays the Confusion Matrix\n",
    "print(\"Confusion Matrix with nearest neighbor 9: \\n\",confusion_matrix(y_test, prediction_9))\n",
    "##External Citation: https://www.kaggle.com/cdabakoglu/heart-disease-classifications-machine-learning ##\n",
    "\n",
    "#For visulatization of Confusion Matrix.\n",
    "\n",
    "#Specifing the size of figure\n",
    "plt.figure(figsize=(24,12))\n",
    "plt.subplot(2,3,5)\n",
    "#Specifying title of the plot\n",
    "plt.title(\"Confusion Matrix with nearest neighbor 9\")\n",
    "#Plotting Heat-Map for the Confusion Matrix.\n",
    "sns.heatmap(confusion_matrix(y_test, prediction_9),annot=True,cmap=\"Blues\",fmt=\"d\",cbar=False, annot_kws={\"size\": 24})\n",
    "#To show the plot\n",
    "plt.show()\n",
    "\n",
    "#Displays the Classification Report including precision, recall, f1-score andsupport\n",
    "print(\"\\nClassification Report with nearest neighbor 9:\\n\",classification_report(y_test, prediction_9))"
   ]
  },
  {
   "cell_type": "code",
   "execution_count": 281,
   "metadata": {},
   "outputs": [
    {
     "name": "stdout",
     "output_type": "stream",
     "text": [
      "Confusion Matrix with nearest neighbor 3: \n",
      " [[135  21]\n",
      " [ 41  71]]\n"
     ]
    },
    {
     "data": {
      "image/png": "[encoded data removed]",
      "text/plain": [
       "<Figure size 1728x864 with 1 Axes>"
      ]
     },
     "metadata": {
      "needs_background": "light"
     },
     "output_type": "display_data"
    },
    {
     "name": "stdout",
     "output_type": "stream",
     "text": [
      "\n",
      "Classification Report with nearest neighbor 3:\n",
      "               precision    recall  f1-score   support\n",
      "\n",
      "           0       0.77      0.87      0.81       156\n",
      "           1       0.77      0.63      0.70       112\n",
      "\n",
      "    accuracy                           0.77       268\n",
      "   macro avg       0.77      0.75      0.75       268\n",
      "weighted avg       0.77      0.77      0.76       268\n",
      "\n"
     ]
    }
   ],
   "source": [
    "##External Citation: https://towardsdatascience.com/predicting-cardiovascular-disease-using-k-nearest-neighbors-algorithm-614b0ecbf122 ##\n",
    "\n",
    "# For Nearest Neighbor : 3\n",
    "\n",
    "#Initializing the nearest neigbhor classifer by specifying the neighbors using n_neighbors attribute, to consider Euclidean ditance by passing 2 value to attribute p and specifying to consider the distance by passing distance to weights attribute. \n",
    "knn_3 = KNeighborsClassifier(n_neighbors=3,p = 2,weights ='distance')\n",
    "#Traing the model by fitting the train data to the k-nearest neighbor classifier.\n",
    "knn_3.fit(X_train,y_train)\n",
    "#Assigning the predicted values of test data set . They are predicted using the model trained in the above steps. \n",
    "prediction_3 = knn_3.predict(X_test)\n",
    "\n",
    "#Displays the Confusion Matrix\n",
    "print(\"Confusion Matrix with nearest neighbor 3: \\n\",confusion_matrix(y_test, prediction_3))\n",
    "##External Citation: https://www.kaggle.com/cdabakoglu/heart-disease-classifications-machine-learning ##\n",
    "\n",
    "#For visulatization of Confusion Matrix.\n",
    "\n",
    "#Specifing the size of figure\n",
    "plt.figure(figsize=(24,12))\n",
    "plt.subplot(2,3,5)\n",
    "#Specifying title of the plot\n",
    "plt.title(\"Confusion Matrix with nearest neighbor 3\")\n",
    "#Plotting Heat-Map for the Confusion Matrix.\n",
    "sns.heatmap(confusion_matrix(y_test, prediction_3),annot=True,cmap=\"Blues\",fmt=\"d\",cbar=False, annot_kws={\"size\": 24})\n",
    "#To show the plot\n",
    "plt.show()\n",
    "\n",
    "#Displays the Classification Report including precision, recall, f1-score andsupport\n",
    "print(\"\\nClassification Report with nearest neighbor 3:\\n\",classification_report(y_test, prediction_3))"
   ]
  },
  {
   "cell_type": "code",
   "execution_count": 282,
   "metadata": {},
   "outputs": [
    {
     "name": "stdout",
     "output_type": "stream",
     "text": [
      "Confusion Matrix with nearest neighbor 31: \n",
      " [[135  21]\n",
      " [ 37  75]]\n"
     ]
    },
    {
     "data": {
      "image/png": "[encoded data removed]",
      "text/plain": [
       "<Figure size 1728x864 with 1 Axes>"
      ]
     },
     "metadata": {
      "needs_background": "light"
     },
     "output_type": "display_data"
    },
    {
     "name": "stdout",
     "output_type": "stream",
     "text": [
      "\n",
      "Classification Report with nearest neighbor 31:\n",
      "               precision    recall  f1-score   support\n",
      "\n",
      "           0       0.78      0.87      0.82       156\n",
      "           1       0.78      0.67      0.72       112\n",
      "\n",
      "    accuracy                           0.78       268\n",
      "   macro avg       0.78      0.77      0.77       268\n",
      "weighted avg       0.78      0.78      0.78       268\n",
      "\n"
     ]
    }
   ],
   "source": [
    "##External Citation: https://towardsdatascience.com/predicting-cardiovascular-disease-using-k-nearest-neighbors-algorithm-614b0ecbf122 ##\n",
    "\n",
    "# For Nearest Neighbor : 31\n",
    "\n",
    "#Initializing the nearest neigbhor classifer by specifying the neighbors using n_neighbors attribute, to consider Euclidean ditance by passing 2 value to attribute p and specifying to consider the distance by passing distance to weights attribute. \n",
    "knn_31 = KNeighborsClassifier(n_neighbors=31,p = 2,weights ='distance')\n",
    "#Traing the model by fitting the train data to the k-nearest neighbor classifier.\n",
    "knn_31.fit(X_train,y_train)\n",
    "#Assigning the predicted values of test data set . They are predicted using the model trained in the above steps. \n",
    "prediction_31 = knn_31.predict(X_test)\n",
    "\n",
    "#Displays the Confusion Matrix\n",
    "print(\"Confusion Matrix with nearest neighbor 31: \\n\",confusion_matrix(y_test, prediction_31))\n",
    "##External Citation: https://www.kaggle.com/cdabakoglu/heart-disease-classifications-machine-learning ##\n",
    "\n",
    "#For visulatization of Confusion Matrix.\n",
    "\n",
    "#Specifing the size of figure\n",
    "plt.figure(figsize=(24,12))\n",
    "plt.subplot(2,3,5)\n",
    "#Specifying title of the plot\n",
    "plt.title(\"Confusion Matrix with nearest neighbor 31\")\n",
    "#Plotting Heat-Map for the Confusion Matrix.\n",
    "sns.heatmap(confusion_matrix(y_test, prediction_31),annot=True,cmap=\"Blues\",fmt=\"d\",cbar=False, annot_kws={\"size\": 24})\n",
    "#To show the plot\n",
    "plt.show()\n",
    "\n",
    "#Displays the Classification Report including precision, recall, f1-score andsupport\n",
    "print(\"\\nClassification Report with nearest neighbor 31:\\n\",classification_report(y_test, prediction_31))"
   ]
  },
  {
   "cell_type": "code",
   "execution_count": 283,
   "metadata": {},
   "outputs": [
    {
     "name": "stdout",
     "output_type": "stream",
     "text": [
      "Confusion Matrix with nearest neighbor 80: \n",
      " [[135  21]\n",
      " [ 36  76]]\n"
     ]
    },
    {
     "data": {
      "image/png": "[encoded data removed]",
      "text/plain": [
       "<Figure size 1728x864 with 1 Axes>"
      ]
     },
     "metadata": {
      "needs_background": "light"
     },
     "output_type": "display_data"
    },
    {
     "name": "stdout",
     "output_type": "stream",
     "text": [
      "\n",
      "Classification Report with nearest neighbor 80:\n",
      "               precision    recall  f1-score   support\n",
      "\n",
      "           0       0.79      0.87      0.83       156\n",
      "           1       0.78      0.68      0.73       112\n",
      "\n",
      "    accuracy                           0.79       268\n",
      "   macro avg       0.79      0.77      0.78       268\n",
      "weighted avg       0.79      0.79      0.78       268\n",
      "\n"
     ]
    }
   ],
   "source": [
    "##External Citation: https://towardsdatascience.com/predicting-cardiovascular-disease-using-k-nearest-neighbors-algorithm-614b0ecbf122 ##\n",
    "\n",
    "# For Nearest Neighbor : 80\n",
    "\n",
    "#Initializing the nearest neigbhor classifer by specifying the neighbors using n_neighbors attribute, to consider Euclidean ditance by passing 2 value to attribute p and specifying to consider the distance by passing distance to weights attribute. \n",
    "knn_80 = KNeighborsClassifier(n_neighbors=80,p = 2,weights ='distance')\n",
    "#Traing the model by fitting the train data to the k-nearest neighbor classifier.\n",
    "knn_80.fit(X_train,y_train)\n",
    "#Assigning the predicted values of test data set . They are predicted using the model trained in the above steps. \n",
    "prediction_80 = knn_80.predict(X_test)\n",
    "\n",
    "#Displays the Confusion Matrix\n",
    "print(\"Confusion Matrix with nearest neighbor 80: \\n\",confusion_matrix(y_test, prediction_80))\n",
    "##External Citation: https://www.kaggle.com/cdabakoglu/heart-disease-classifications-machine-learning ##\n",
    "\n",
    "#For visulatization of Confusion Matrix.\n",
    "\n",
    "#Specifing the size of figure\n",
    "plt.figure(figsize=(24,12))\n",
    "plt.subplot(2,3,5)\n",
    "#Specifying title of the plot\n",
    "plt.title(\"Confusion Matrix with nearest neighbor 80\")\n",
    "#Plotting Heat-Map for the Confusion Matrix.\n",
    "sns.heatmap(confusion_matrix(y_test, prediction_80),annot=True,cmap=\"Blues\",fmt=\"d\",cbar=False, annot_kws={\"size\": 24})\n",
    "#To show the plot\n",
    "plt.show()\n",
    "\n",
    "#Displays the Classification Report including precision, recall, f1-score andsupport\n",
    "print(\"\\nClassification Report with nearest neighbor 80:\\n\",classification_report(y_test, prediction_80))"
   ]
  },
  {
   "cell_type": "code",
   "execution_count": 284,
   "metadata": {},
   "outputs": [
    {
     "data": {
      "image/png": "[encoded data removed]",
      "text/plain": [
       "<Figure size 576x432 with 1 Axes>"
      ]
     },
     "metadata": {
      "needs_background": "light"
     },
     "output_type": "display_data"
    }
   ],
   "source": [
    "##External Citation: https://scikit-learn.org/stable/auto_examples/neighbors/plot_classification.html#sphx-glr-auto-examples-neighbors-plot-classification-py ##\n",
    "\n",
    "#Plotting the classifier in a 2D projection\n",
    "\n",
    "#Specifying the number of neighbors\n",
    "n_neighbors = 15\n",
    "# step size in the mesh\n",
    "h = .02  \n",
    "#Considering two features Age and Fare_Per_Person for classification for better representation.\n",
    "X = sub_df[[\"Age\",\"Fare_Per_Person\"]]\n",
    "#Considering the Traget Variable 'Survived'\n",
    "y = sub_df[\"Survived\"]\n",
    "# Create color maps\n",
    "cmap_light = ListedColormap(['orange', 'cyan', 'cornflowerblue'])\n",
    "cmap_bold = ['darkorange', 'darkblue']\n",
    "\n",
    "for weights in ['distance']:\n",
    "    # we create an instance of Neighbours Classifier and fit the data.\n",
    "    clf = KNeighborsClassifier(n_neighbors,p=2, weights=weights)\n",
    "    clf.fit(X, Y)\n",
    "    # Plot the decision boundary. For that, we will assign a color to each\n",
    "    # point in the mesh [x_min, x_max]x[y_min, y_max].\n",
    "    x_min, x_max = X[\"Age\"].min() - 1, X[\"Age\"].max() + 1                           #Retriving range of 'Age' Feature\n",
    "    y_min, y_max = X[\"Fare_Per_Person\"].min() - 1, X[\"Fare_Per_Person\"].max() + 1   #Retriving range of 'Fare_Per_Person' Feature\n",
    "    xx, yy = np.meshgrid(np.arange(x_min, x_max, h),np.arange(y_min, y_max, h))     #Creating a grid with the ranges found out in the above steps.\n",
    "    Z = clf.predict(np.c_[xx.ravel(), yy.ravel()])                                  #Predicting the values.\n",
    "\n",
    "    # Put the result into a color plot\n",
    "    Z = Z.reshape(xx.shape)                     #Shape\n",
    "    plt.figure(figsize=(8, 6))                  #Size\n",
    "    plt.contourf(xx, yy, Z, cmap=cmap_light)    #Color\n",
    "\n",
    "    # Plot also the training points\n",
    "    sns.scatterplot(x=X[\"Age\"], y=X[\"Fare_Per_Person\"], hue=y,palette=cmap_bold, alpha=1.0, edgecolor=\"black\")   #Plotting\n",
    "    plt.xlim(xx.min(), xx.max())   #Passing the limit values for 'Age' feature\n",
    "    plt.ylim(yy.min(), yy.max())   #Passing the limit values for 'Fare_Per_Person' feature\n",
    "    plt.title(\"15-Class classification (k = %i, p = %i, weights = '%s')\"  % (n_neighbors,2, weights))  #Title of plot\n",
    "    plt.xlabel(\"Age\")              #X-axis Label\n",
    "    plt.ylabel(\"Fare_Per_Person\")  #Y-axis Label\n",
    "\n",
    "plt.show()    #To show the plot"
   ]
  },
  {
   "cell_type": "markdown",
   "metadata": {},
   "source": [
    "# Report (22 Points)\n",
    "\n",
    "For each classification task you need to submit a report (Microsoft Word, or PDF) that you have to:\n",
    "* Describe the Nearest Neighbors method. [5 points]\n",
    "* Explain what was your criteria for selecting the three attributes. [7 points]\n",
    "* Visualizations of the classifier in a 2D projection, and write your observations. [5 points]\n",
    "* Interprete and compare the results.[5 points]\n",
    "\n",
    "Do not to forget to cite your sources!"
   ]
  },
  {
   "cell_type": "code",
   "execution_count": 23,
   "metadata": {},
   "outputs": [
    {
     "data": {
      "image/png": "[encoded data removed]",
      "text/plain": [
       "<Figure size 432x288 with 1 Axes>"
      ]
     },
     "metadata": {
      "needs_background": "light"
     },
     "output_type": "display_data"
    }
   ],
   "source": [
    "##External Citation: https://www.geeksforgeeks.org/seaborn-lineplot-method-in-python/ ##\n",
    "\n",
    "#To show how the Survived people chances varied for different range of age groups. \n",
    "\n",
    "#Considering Age and Survived columns from the data set\n",
    "data = df[[\"Age\",\"Survived\"]]\n",
    "#To draw lineplot\n",
    "sns.lineplot(x=\"Age\", y=\"Survived\", data=data)\n",
    "#To show the plot\n",
    "plt.show()"
   ]
  },
  {
   "cell_type": "code",
   "execution_count": 24,
   "metadata": {},
   "outputs": [
    {
     "data": {
      "image/png": "[encoded data removed]",
      "text/plain": [
       "<Figure size 432x288 with 1 Axes>"
      ]
     },
     "metadata": {
      "needs_background": "light"
     },
     "output_type": "display_data"
    }
   ],
   "source": [
    "##External Citation: https://www.geeksforgeeks.org/seaborn-lineplot-method-in-python/ ##\n",
    "\n",
    "#To show how the Survived people chances varied for different sex.\n",
    "\n",
    "#Considering Sex and Survived columns from the data set\n",
    "data = df[[\"Sex\",\"Survived\"]]  \n",
    "# draw lineplot\n",
    "sns.lineplot(x=\"Sex\", y=\"Survived\", data=data)\n",
    "#To show the plot\n",
    "plt.show()"
   ]
  },
  {
   "cell_type": "code",
   "execution_count": 25,
   "metadata": {},
   "outputs": [
    {
     "data": {
      "image/png": "[encoded data removed]",
      "text/plain": [
       "<Figure size 432x288 with 1 Axes>"
      ]
     },
     "metadata": {
      "needs_background": "light"
     },
     "output_type": "display_data"
    }
   ],
   "source": [
    "##External Citation: https://www.geeksforgeeks.org/seaborn-lineplot-method-in-python/ ##\n",
    "\n",
    "#To show how the Survived people chances varied for different Fare_Per_Person values.\n",
    "\n",
    "#Considering Fare_Per_Person and Survived columns from the data set\n",
    "data = df[[\"Fare_Per_Person\",\"Survived\"]]  \n",
    "# draw lineplot\n",
    "sns.lineplot(x=\"Fare_Per_Person\", y=\"Survived\", data=data)\n",
    "#To show the plot\n",
    "plt.show()"
   ]
  },
  {
   "cell_type": "code",
   "execution_count": 26,
   "metadata": {},
   "outputs": [
    {
     "name": "stdout",
     "output_type": "stream",
     "text": [
      "               Age  Survived\n",
      "Age       1.000000 -0.043342\n",
      "Survived -0.043342  1.000000\n"
     ]
    },
    {
     "data": {
      "image/png": "[encoded data removed]",
      "text/plain": [
       "<Figure size 432x288 with 2 Axes>"
      ]
     },
     "metadata": {
      "needs_background": "light"
     },
     "output_type": "display_data"
    }
   ],
   "source": [
    "##External Citation: https://www.geeksforgeeks.org/how-to-create-a-seaborn-correlation-heatmap-in-python/ ##\n",
    "\n",
    "#To show how the Survived people chances varied for different range of age groups. \n",
    "\n",
    "#Considering Age and Survived columns from the data set\n",
    "data = df[[\"Age\",\"Survived\"]]\n",
    "#To show the correlated data\n",
    "print(data.corr())\n",
    "#To plot the correlation heat map \n",
    "sns.heatmap(data.corr(), cmap=\"YlGnBu\", annot=True)\n",
    "#To show the plot\n",
    "plt.show()\n"
   ]
  },
  {
   "cell_type": "code",
   "execution_count": 27,
   "metadata": {},
   "outputs": [
    {
     "name": "stdout",
     "output_type": "stream",
     "text": [
      "               Sex  Survived\n",
      "Sex       1.000000  0.543351\n",
      "Survived  0.543351  1.000000\n"
     ]
    },
    {
     "data": {
      "image/png": "[encoded data removed]",
      "text/plain": [
       "<Figure size 432x288 with 2 Axes>"
      ]
     },
     "metadata": {
      "needs_background": "light"
     },
     "output_type": "display_data"
    }
   ],
   "source": [
    "##External Citation: https://www.geeksforgeeks.org/how-to-create-a-seaborn-correlation-heatmap-in-python/ ##\n",
    "\n",
    "#To show how the Survived people chances varied for different range of age groups. \n",
    "\n",
    "#Considering Age and Survived columns from the data set\n",
    "data = df[[\"Sex\",\"Survived\"]]\n",
    "#To show the correlated data\n",
    "print(data.corr())\n",
    "#To plot the correlation heat map \n",
    "sns.heatmap(data.corr(), cmap=\"YlGnBu\", annot=True)\n",
    "#To show the plot\n",
    "plt.show()"
   ]
  },
  {
   "cell_type": "code",
   "execution_count": 28,
   "metadata": {},
   "outputs": [
    {
     "name": "stdout",
     "output_type": "stream",
     "text": [
      "                 Fare_Per_Person  Survived\n",
      "Fare_Per_Person         1.000000  0.188668\n",
      "Survived                0.188668  1.000000\n"
     ]
    },
    {
     "data": {
      "image/png": "[encoded data removed]",
      "text/plain": [
       "<Figure size 432x288 with 2 Axes>"
      ]
     },
     "metadata": {
      "needs_background": "light"
     },
     "output_type": "display_data"
    }
   ],
   "source": [
    "##External Citation: https://www.geeksforgeeks.org/how-to-create-a-seaborn-correlation-heatmap-in-python/ ##\n",
    "\n",
    "#To show how the Survived people chances varied for different range of age groups. \n",
    "\n",
    "#Considering Age and Survived columns from the data set\n",
    "data = df[[\"Fare_Per_Person\",\"Survived\"]]\n",
    "#To show the correlated data\n",
    "print(data.corr())\n",
    "#To plot the correlation heat map \n",
    "sns.heatmap(data.corr(), cmap=\"YlGnBu\", annot=True)\n",
    "#To show the plot\n",
    "plt.show()"
   ]
  }
 ],
 "metadata": {
  "kernelspec": {
   "display_name": "Python 3 (ipykernel)",
   "language": "python",
   "name": "python3"
  },
  "language_info": {
   "codemirror_mode": {
    "name": "ipython",
    "version": 3
   },
   "file_extension": ".py",
   "mimetype": "text/x-python",
   "name": "python",
   "nbconvert_exporter": "python",
   "pygments_lexer": "ipython3",
   "version": "3.8.10"
  }
 },
 "nbformat": 4,
 "nbformat_minor": 4
}
